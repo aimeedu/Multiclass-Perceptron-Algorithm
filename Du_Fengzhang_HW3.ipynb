{
 "cells": [
  {
   "cell_type": "markdown",
   "metadata": {},
   "source": [
    "# HW3_Fengzhang_Du \n",
    "\n",
    "* python 3.7\n",
    "* platform Mac\n",
    "### Done: \n",
    "* Linear classifier.\n",
    "* Multiclass classifier.\n",
    "* Computation of the error measure for the multiclass classifier E_in and E_val.\n",
    "* 5-fold Cross Validation\n",
    "* Report"
   ]
  },
  {
   "cell_type": "markdown",
   "metadata": {},
   "source": [
    "### Project Setup:\n",
    "Multiclass Perceptron algorithm with one linear function for each class.\n",
    "\n",
    "For `k=10` classes, target are numbered `0,1,...,9`. For `d`-dimensional data, the classifier will be parametrized by:\n",
    "* `w`: this is a `kxd` numpy array with one row for each class\n",
    "\n",
    "Thus the linear function for class `i` (where `i` lies in the range `0` to `9`) is given by `w[i]`."
   ]
  },
  {
   "cell_type": "markdown",
   "metadata": {},
   "source": [
    "Function **predict(w, x, k = 10)**: takes input of a linear classifier (`w`) as well as a data point (`x`) and returns the prediction of that classifier at `x`.\n",
    "\n",
    "Function **fit(x_train, y_train, x_test, y_test, q, n_iter=60, k=10):**:\n",
    "* `x_train`: n-by-d numpy array with n data points, each d-dimensional\n",
    "* `y_train`: n-dimensional numpy array with the labels (in the range `0` to `k-1`)\n",
    "* `q`: the degree we want to fit.\n",
    "* `n_iters`: number of iterations\n",
    "* `k`: the number of classes, k = 10 as default\n",
    "\n",
    "\n",
    "### 5 Flods Cross Validation\n",
    "\n",
    "* split data into 5 piece with no repetition.\n",
    "* fit each set of the training data and take the average of all to get the final error rate.\n",
    "\n",
    "Function **cv5(x_train_cv, y_train_cv, x_test_cv, y_test_cv, q, n_iter=60, k=10)**:\n",
    "* tekes same parameters as the function fit( ), use as an outter function of function fit( )."
   ]
  },
  {
   "cell_type": "code",
   "execution_count": 77,
   "metadata": {},
   "outputs": [],
   "source": [
    "%matplotlib inline\n",
    "import pandas as pd\n",
    "import numpy as np\n",
    "import matplotlib.pyplot as plt\n",
    "import seaborn as sns\n",
    "from sklearn import datasets\n",
    "from sklearn.model_selection import train_test_split\n",
    "import sklearn.linear_model as sk\n",
    "plt.rcParams[\"figure.figsize\"] = (5, 3) # (w, h)\n",
    "plt.rcParams[\"figure.dpi\"] = 140\n",
    "from sklearn.preprocessing import PolynomialFeatures\n",
    "\n",
    "digits = datasets.load_digits()\n",
    "# modify cancer.data, stack 1 in front of each data point\n",
    "digits.data = np.insert(digits.data, 0, 1, axis=1)\n"
   ]
  },
  {
   "cell_type": "code",
   "execution_count": 135,
   "metadata": {},
   "outputs": [],
   "source": [
    "# 5 flods cross validation, generate 5 folds. and store in lists.\n",
    "\n",
    "x_train_cv = []\n",
    "x_test_cv = []\n",
    "y_train_cv = []\n",
    "y_test_cv = []\n",
    "step = 359\n",
    "from_ = 0\n",
    "to = 359  \n",
    "\n",
    "for i in range(5):\n",
    "\n",
    "    x_test = digits.data[from_: from_+step] # 0:359:718\n",
    "    y_test = digits.target[from_: from_+step]\n",
    "    x_train = np.append(digits.data[0:from_], digits.data[to:1797], axis=0)\n",
    "    y_train = np.append(digits.target[0:from_], digits.target[to:1797], axis=0)\n",
    "    \n",
    "    x_train_cv.append(x_train)\n",
    "    x_test_cv.append(x_test)\n",
    "    y_train_cv.append(y_train)\n",
    "    y_test_cv.append(y_test)\n",
    "\n",
    "    from_ += step\n",
    "    to += step"
   ]
  },
  {
   "cell_type": "code",
   "execution_count": 138,
   "metadata": {},
   "outputs": [],
   "source": [
    "# Multiclass Classifier \n",
    "\n",
    "# predict one point\n",
    "def predict(w, x, k = 10):\n",
    "    # 10 classes in total, label: 0-9\n",
    "    score = np.zeros(k)\n",
    "    for i in range(k):\n",
    "        score[i] = np.dot(x, w[i,:])\n",
    "    return int(np.argmax(score))     # argmax return the index value of the the max.\n",
    "\n",
    "\n",
    "# training function\n",
    "error_rate = []\n",
    "error_rate_test = []\n",
    "iteration = []\n",
    "w_ = []\n",
    "def fit(x_train, y_train, x_test, y_test, q, n_iter=60, k=10):\n",
    "    \n",
    "    #     transfer feature space to higher dimension  \n",
    "    poly_features = PolynomialFeatures(degree=q, include_bias=False) \n",
    "    x_train_poly = poly_features.fit_transform(x_train)\n",
    "    x_test_poly = poly_features.fit_transform(x_test)\n",
    "\n",
    "    n, d = x_train_poly.shape\n",
    "\n",
    "    w = np.zeros((k,d)) # initialize w0 = w1 = w2 =... = w9\n",
    "    \n",
    "    iters = 0\n",
    "    error = 0\n",
    "    cur_error_rate = 100.0    # error_rate for current iteration\n",
    "    \n",
    "    for i in range(n_iter):   \n",
    "        # start iterate/test each point in the traing set using the current w\n",
    "        for xi, yi in zip(x_train_poly, y_train):         \n",
    "            y_pred = predict(w, xi)\n",
    "            y_real = int(yi)\n",
    "            \n",
    "            if (y_pred != y_real):          \n",
    "                error += 1\n",
    "                w[y_real] += xi\n",
    "                w[y_pred] -= xi               \n",
    "                cur_error_rate = error/n \n",
    "\n",
    "        error = 0\n",
    "        iters += 1\n",
    "\n",
    "    w_pocket = w\n",
    "    w_.append(w_pocket)\n",
    "    return cur_error_rate\n",
    "\n",
    "\n",
    "# 5 flods cross validation\n",
    "def cv5(x_train_cv, y_train_cv, x_test_cv, y_test_cv, q, n_iter=60, k=10):\n",
    "    for i in range(5):\n",
    "        e_rate = 0\n",
    "        e_rate += fit(x_train_cv[i], y_train_cv[i], x_test_cv[i], y_test_cv[i], q, n_iter, k)\n",
    "    return e_rate     \n"
   ]
  },
  {
   "cell_type": "markdown",
   "metadata": {},
   "source": [
    "## Experiments with multiclass Perceptron with Q = 1, Q = 2, Q = 3\n",
    "\n",
    "* The the Compute 3 concrete attributes/features for xi is optional, I compute my result with 64 features. \n",
    "* Thus unfortunatly, the data can only computed up to Q = 3, due to the limitation of the machine.\n",
    "* For each dimension, compute for each w which generated by the training data, and for each w, take average of error rate of 5 folds. Then average error rate from 5 ws to get final result for each dimension."
   ]
  },
  {
   "cell_type": "markdown",
   "metadata": {},
   "source": [
    "Function **testing(x_test_cv, w_, q)**:\n",
    "* `x_test_cv`: a list of length 5, which at each index stores a set of testing data for x of size (359, 65).\n",
    "* `y_test_cv`: a list of length 5, which at each index stores a set of testing data for y of size (359, ).\n",
    "* `q`: the degree we want to fit.\n",
    "* `w_`: 5 w we get from cross validation.\n",
    "\n"
   ]
  },
  {
   "cell_type": "code",
   "execution_count": 193,
   "metadata": {},
   "outputs": [],
   "source": [
    "def testing(x_test_cv, y_test_cv, w_, q):\n",
    "    E_final = 0\n",
    "    # test for each w generated by 5 folds \n",
    "    for w in w_:\n",
    "\n",
    "        E_5fold = 0\n",
    "        for x_test, y_test in zip(x_test_cv, y_test_cv):\n",
    "\n",
    "            y_pred = []\n",
    "            # transfer feature space to higher dimension  \n",
    "            poly_features = PolynomialFeatures(degree=q, include_bias=False) \n",
    "            x_test_poly = poly_features.fit_transform(x_test)\n",
    "\n",
    "            # test for each fold\n",
    "            for xi, yi in zip(x_test_poly, y_test):\n",
    "\n",
    "                y_p = predict(w, xi)\n",
    "                y_pred.append(y_p)\n",
    "\n",
    "            E_val = np.sum(y_test != y_pred) / len(y_pred) \n",
    "            E_5fold += E_val\n",
    "\n",
    "        E_5fold /= 5.0\n",
    "        E_final += E_5fold  \n",
    "    E_final /= 5.0\n",
    "    return E_final"
   ]
  },
  {
   "cell_type": "code",
   "execution_count": 216,
   "metadata": {},
   "outputs": [
    {
     "name": "stdout",
     "output_type": "stream",
     "text": [
      "0.0034770514603616135\n"
     ]
    },
    {
     "data": {
      "text/plain": [
       "0.031866295264623964"
      ]
     },
     "execution_count": 216,
     "metadata": {},
     "output_type": "execute_result"
    }
   ],
   "source": [
    "w_ = []\n",
    "q1 = cv5(x_train_cv, y_train_cv, x_test_cv, y_test_cv,1, n_iter=60, k=10)\n",
    "print(q1)\n",
    "w1 = w_\n",
    "E_val_1 = testing(x_test_cv, y_test_cv, w1, 1)\n",
    "E_val_1"
   ]
  },
  {
   "cell_type": "code",
   "execution_count": 217,
   "metadata": {},
   "outputs": [
    {
     "name": "stdout",
     "output_type": "stream",
     "text": [
      "0.0027816411682892906\n"
     ]
    },
    {
     "data": {
      "text/plain": [
       "0.013259052924791088"
      ]
     },
     "execution_count": 217,
     "metadata": {},
     "output_type": "execute_result"
    }
   ],
   "source": [
    "w_ = []\n",
    "q2 = cv5(x_train_cv, y_train_cv, x_test_cv, y_test_cv, 2, n_iter=60, k=10)\n",
    "print(q2)\n",
    "w2 = w_\n",
    "E_val_2 = testing(x_test_cv, y_test_cv, w2, 2)\n",
    "E_val_2"
   ]
  },
  {
   "cell_type": "code",
   "execution_count": 218,
   "metadata": {},
   "outputs": [
    {
     "name": "stdout",
     "output_type": "stream",
     "text": [
      "0.0027816411682892906\n"
     ]
    },
    {
     "data": {
      "text/plain": [
       "0.012256267409470754"
      ]
     },
     "execution_count": 218,
     "metadata": {},
     "output_type": "execute_result"
    }
   ],
   "source": [
    "w_ = []\n",
    "q3 = cv5(x_train_cv, y_train_cv, x_test_cv, y_test_cv, 3, n_iter=60, k=10)\n",
    "print(q3)\n",
    "w3 = w_\n",
    "E_val_3 = testing(x_test_cv, y_test_cv, w3, 3)\n",
    "E_val_3"
   ]
  },
  {
   "cell_type": "code",
   "execution_count": 222,
   "metadata": {},
   "outputs": [
    {
     "data": {
      "text/html": [
       "<div>\n",
       "<style scoped>\n",
       "    .dataframe tbody tr th:only-of-type {\n",
       "        vertical-align: middle;\n",
       "    }\n",
       "\n",
       "    .dataframe tbody tr th {\n",
       "        vertical-align: top;\n",
       "    }\n",
       "\n",
       "    .dataframe thead th {\n",
       "        text-align: right;\n",
       "    }\n",
       "</style>\n",
       "<table border=\"1\" class=\"dataframe\">\n",
       "  <thead>\n",
       "    <tr style=\"text-align: right;\">\n",
       "      <th></th>\n",
       "      <th>E_in</th>\n",
       "      <th>E_val</th>\n",
       "    </tr>\n",
       "  </thead>\n",
       "  <tbody>\n",
       "    <tr>\n",
       "      <th>Q = 1</th>\n",
       "      <td>0.003477</td>\n",
       "      <td>0.031866</td>\n",
       "    </tr>\n",
       "    <tr>\n",
       "      <th>Q = 2</th>\n",
       "      <td>0.002782</td>\n",
       "      <td>0.013259</td>\n",
       "    </tr>\n",
       "    <tr>\n",
       "      <th>Q = 3</th>\n",
       "      <td>0.002782</td>\n",
       "      <td>0.012256</td>\n",
       "    </tr>\n",
       "  </tbody>\n",
       "</table>\n",
       "</div>"
      ],
      "text/plain": [
       "           E_in     E_val\n",
       "Q = 1  0.003477  0.031866\n",
       "Q = 2  0.002782  0.013259\n",
       "Q = 3  0.002782  0.012256"
      ]
     },
     "execution_count": 222,
     "metadata": {},
     "output_type": "execute_result"
    },
    {
     "data": {
      "image/png": "[encoded data removed]",
      "text/plain": [
       "<Figure size 560x420 with 1 Axes>"
      ]
     },
     "metadata": {
      "needs_background": "light"
     },
     "output_type": "display_data"
    }
   ],
   "source": [
    "q0 = []\n",
    "q0.extend([q1, q2, q3])\n",
    "plt.rcParams[\"figure.figsize\"] = (4,3)\n",
    "tick =['Q=1', 'Q=2', 'Q=3']\n",
    "\n",
    "plt.bar(range(3), q0, color=(0.0, 0.4, 0.9, 1.0))\n",
    "df1 = pd.DataFrame ([q1,q2,q3],index = ['Q = 1','Q = 2','Q = 3'], columns = ['E_in'])\n",
    "\n",
    "E_val = []\n",
    "E_val.extend([E_val_1, E_val_2,E_val_3])\n",
    "\n",
    "tick =['Q=1', 'Q=2', 'Q=3']\n",
    "plt.xlabel('E_in and E_val with different degree transformation')\n",
    "plt.ylabel('Error Rate')\n",
    "plt.xticks(range(3), tick)\n",
    "plt.bar(range(3), E_val, color=(0.8, 0.4, 0.9, 0.5))\n",
    "# plt.legend(loc=\"upper right\") \n",
    "E = ['E_in', 'E_val']\n",
    "plt.legend(E,loc=\"upper right\")\n",
    "\n",
    "\n",
    "df2 = pd.DataFrame(E_val, index = ['Q = 1','Q = 2','Q = 3'], columns = ['E_val'])\n",
    "df = df1.join(df2)\n",
    "df"
   ]
  },
  {
   "cell_type": "markdown",
   "metadata": {},
   "source": [
    "### Observation from Training: \n",
    "* I use 64 features to compute the data, so unfortunatly, the data can only compute up to Q = 3.\n",
    "* From the purple bar of E_in we can see the error rate drops as we fit training data using higher dimension up to 60 iterations.\n",
    "* Eventually as the iteration get big enough the error rate will drop and become stable and close to Q = 3\n",
    "* For less iteration, higher Q generates smaller E_in.\n",
    "* For iteration big enough, all the E_in form different Q get bottom up at highest Q. We can see already E_in of Q = 2 and 3 are equal after 60 iteration."
   ]
  },
  {
   "cell_type": "markdown",
   "metadata": {},
   "source": [
    "### Observation from Testing: \n",
    "* When computing Q form 1 to 3 for the testing data. The pink bar of E_val shows the error rate has the trend of flatting after Q = 2. \n",
    "* Although we can not compute for higher degrees, the data implies even we fit data higher than Q = 3, the error rate has the high chance would be at least the E_val of Q = 3. \n",
    "* Higher degree after Q = 2 dose not improve our w and result that much.\n",
    "* Thus, fitting data into higher dimension very likely could cause overfitting and unnecessary computations, as well as include too much noice to the result. And from Q = 3, we can already see this trend. Also form what we have learned from the class, as the dimension gets higher, the E_val would actually go up after certain threshold. My experiments shows , Q = 3 could be such threshold. But after thtat, the computer is not able to compute."
   ]
  },
  {
   "cell_type": "markdown",
   "metadata": {},
   "source": [
    "* This is the end of the report."
   ]
  }
 ],
 "metadata": {
  "kernelspec": {
   "display_name": "Python 3",
   "language": "python",
   "name": "python3"
  },
  "language_info": {
   "codemirror_mode": {
    "name": "ipython",
    "version": 3
   },
   "file_extension": ".py",
   "mimetype": "text/x-python",
   "name": "python",
   "nbconvert_exporter": "python",
   "pygments_lexer": "ipython3",
   "version": "3.8.3"
  }
 },
 "nbformat": 4,
 "nbformat_minor": 4
}
